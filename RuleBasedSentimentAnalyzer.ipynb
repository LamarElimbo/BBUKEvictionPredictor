{
 "cells": [
  {
   "cell_type": "code",
   "execution_count": 1,
   "metadata": {
    "collapsed": true
   },
   "outputs": [],
   "source": [
    "#Twitter credentials\n",
    "app_key = \"yR9glAMWeqhyllBQuXZCTy6Qa\"\n",
    "app_secret = \"XaTraw0DcBNfe1GXWWopTdDJGWYO5BC9dW1zBTXKut2dkYLXqt\"\n",
    "access_token = \"4655376569-sZx9j0n3SR3ok1alwrjtjSGt8jRICRFypxpIA4S\"\n",
    "access_secret = \"VoWI1AfAPlhDBJEQHQGsKMZe00c9s4jBYsRrbHx3VVIhE\"\n",
    "\n",
    "import tweepy\n",
    "\n",
    "auth = tweepy.OAuthHandler(app_key, app_secret)\n",
    "auth.set_access_token(access_token, access_secret)\n",
    "\n",
    "api = tweepy.API(auth)"
   ]
  },
  {
   "cell_type": "code",
   "execution_count": 2,
   "metadata": {
    "collapsed": false
   },
   "outputs": [],
   "source": [
    "#Collect tweets\n",
    "results = api.search(q='bbuk', count=100)\n",
    "tweets = []\n",
    "for (idx, tweet) in enumerate(results[0:100]):\n",
    "    tweets.append(results[idx].text)"
   ]
  },
  {
   "cell_type": "code",
   "execution_count": 3,
   "metadata": {
    "collapsed": true
   },
   "outputs": [],
   "source": [
    "#Define features\n",
    "with open(\"positive-words.txt\") as pos:\n",
    "    pos_words = pos.readlines()\n",
    "with open(\"negative-words.txt\") as neg:\n",
    "    neg_words = neg.readlines()"
   ]
  },
  {
   "cell_type": "code",
   "execution_count": 4,
   "metadata": {
    "collapsed": false
   },
   "outputs": [],
   "source": [
    "#Classification algorithm\n",
    "\n",
    "def sentimenter(words_in_tweet):\n",
    "    tweet_pos_words = 0\n",
    "    tweet_neg_words = 0\n",
    "    tweet_neu_words = 0\n",
    "    sent_score = \"\"\n",
    "    \n",
    "    for word in words_in_tweet:\n",
    "        \n",
    "        if word+'\\n' in pos_words:\n",
    "            tweet_pos_words += 1\n",
    "        elif word+'\\n' in neg_words:\n",
    "            tweet_neg_words += 1\n",
    "        else:\n",
    "            tweet_neu_words += 1\n",
    "    #print('pos: ', tweet_pos_words, '| neg: ', tweet_neg_words, '| neu: ', tweet_neu_words)\n",
    "    \n",
    "    if tweet_pos_words > tweet_neg_words:\n",
    "        sent_score += 'pos'\n",
    "    elif tweet_neg_words > tweet_pos_words:\n",
    "        sent_score += 'neg'\n",
    "        housemates[name] += 1\n",
    "    else:\n",
    "        sent_score += 'neu'\n",
    "    #print(sent_score)\n"
   ]
  },
  {
   "cell_type": "code",
   "execution_count": 5,
   "metadata": {
    "collapsed": false
   },
   "outputs": [],
   "source": [
    "#Tokenize tweets and get sentiment score for tweet\n",
    "from nltk import word_tokenize\n",
    "import nltk\n",
    "\n",
    "housemates = {'alex': 0, 'andy': 0, 'charlie': 0, 'chelsea': 0, 'emma': 0, 'evelyn': 0, 'georgina': 0, 'hughie': 0, 'jackson': 0, 'jason': 0, 'jayne': 0, 'lateysha': 0, 'laura': 0, 'ryan': 0, 'sam': 0}\n",
    "neg_tweets = []\n",
    "type(tweets[0])\n",
    "\n",
    "for tweet in tweets:\n",
    "    tokenized_tweet = word_tokenize(tweet)\n",
    "    tweet_words = [word.lower() for word in tokenized_tweet if word.isalpha() and len(word) > 2]\n",
    "    for name in housemates.keys():\n",
    "        if name in tweet_words:\n",
    "            #print(name)\n",
    "            #print(tweet)\n",
    "            sentimenter(tweet_words)\n",
    "print(housemates)"
   ]
  },
  {
   "cell_type": "code",
   "execution_count": 7,
   "metadata": {
    "collapsed": false
   },
   "outputs": [],
   "source": [
    "import matplotlib.pyplot as plt\n",
    "\n",
    "plt.bar(range(len(housemates)), housemates.values(), align='center')\n",
    "plt.xticks(range(len(housemates)), housemates.keys())\n",
    "\n",
    "plt.show()\n"
   ]
  }
 ],
 "metadata": {
  "kernelspec": {
   "display_name": "Python 3",
   "language": "python",
   "name": "python3"
  },
  "language_info": {
   "codemirror_mode": {
    "name": "ipython",
    "version": 3
   },
   "file_extension": ".py",
   "mimetype": "text/x-python",
   "name": "python",
   "nbconvert_exporter": "python",
   "pygments_lexer": "ipython3",
   "version": "3.5.1"
  }
 },
 "nbformat": 4,
 "nbformat_minor": 0
}
