{
 "cells": [
  {
   "cell_type": "code",
   "execution_count": 1,
   "metadata": {
    "collapsed": false
   },
   "outputs": [
    {
     "ename": "FileNotFoundError",
     "evalue": "[Errno 2] No such file or directory: 'positive-words.txt'",
     "output_type": "error",
     "traceback": [
      "\u001b[0;31m---------------------------------------------------------------------------\u001b[0m",
      "\u001b[0;31mFileNotFoundError\u001b[0m                         Traceback (most recent call last)",
      "\u001b[0;32m<ipython-input-1-4d672d842505>\u001b[0m in \u001b[0;36m<module>\u001b[0;34m()\u001b[0m\n\u001b[1;32m     19\u001b[0m \u001b[0;34m\u001b[0m\u001b[0m\n\u001b[1;32m     20\u001b[0m \u001b[0;31m#Define features\u001b[0m\u001b[0;34m\u001b[0m\u001b[0;34m\u001b[0m\u001b[0m\n\u001b[0;32m---> 21\u001b[0;31m \u001b[0;32mwith\u001b[0m \u001b[0mopen\u001b[0m\u001b[0;34m(\u001b[0m\u001b[0;34m\"positive-words.txt\"\u001b[0m\u001b[0;34m)\u001b[0m \u001b[0;32mas\u001b[0m \u001b[0mpos\u001b[0m\u001b[0;34m:\u001b[0m\u001b[0;34m\u001b[0m\u001b[0m\n\u001b[0m\u001b[1;32m     22\u001b[0m     \u001b[0mpos_words\u001b[0m \u001b[0;34m=\u001b[0m \u001b[0mpos\u001b[0m\u001b[0;34m.\u001b[0m\u001b[0mreadlines\u001b[0m\u001b[0;34m(\u001b[0m\u001b[0;34m)\u001b[0m\u001b[0;34m\u001b[0m\u001b[0m\n\u001b[1;32m     23\u001b[0m \u001b[0;32mwith\u001b[0m \u001b[0mopen\u001b[0m\u001b[0;34m(\u001b[0m\u001b[0;34m\"negative-words.txt\"\u001b[0m\u001b[0;34m)\u001b[0m \u001b[0;32mas\u001b[0m \u001b[0mneg\u001b[0m\u001b[0;34m:\u001b[0m\u001b[0;34m\u001b[0m\u001b[0m\n",
      "\u001b[0;31mFileNotFoundError\u001b[0m: [Errno 2] No such file or directory: 'positive-words.txt'"
     ]
    }
   ],
   "source": [
    "#Twitter credentials\n",
    "app_key = \"yR9glAMWeqhyllBQuXZCTy6Qa\"\n",
    "app_secret = \"XaTraw0DcBNfe1GXWWopTdDJGWYO5BC9dW1zBTXKut2dkYLXqt\"\n",
    "access_token = \"4655376569-sZx9j0n3SR3ok1alwrjtjSGt8jRICRFypxpIA4S\"\n",
    "access_secret = \"VoWI1AfAPlhDBJEQHQGsKMZe00c9s4jBYsRrbHx3VVIhE\"\n",
    "\n",
    "import tweepy\n",
    "\n",
    "auth = tweepy.OAuthHandler(app_key, app_secret)\n",
    "auth.set_access_token(access_token, access_secret)\n",
    "\n",
    "api = tweepy.API(auth)\n",
    "\n",
    "#Collect tweets\n",
    "results = api.search(q='CBB', count=600)\n",
    "tweets = []\n",
    "for (idx, tweet) in enumerate(results[0:600]):\n",
    "    tweets.append(results[idx].text)\n",
    "\n",
    "#Define features\n",
    "import os\n",
    "\n",
    "os.chdir('..')\n",
    "os.chdir()\n",
    "with open(\"positive-words.txt\") as pos:\n",
    "    pos_words = pos.readlines()\n",
    "with open(\"negative-words.txt\") as neg:\n",
    "    neg_words = neg.readlines()\n",
    "\n",
    "#Classification algorithm\n",
    "\n",
    "def sentimenter(words_in_tweet):\n",
    "    tweet_pos_words = 0\n",
    "    tweet_neg_words = 0\n",
    "    tweet_neu_words = 0\n",
    "    sent_score = \"\"\n",
    "    \n",
    "    for word in words_in_tweet:\n",
    "        \n",
    "        if word+'\\n' in pos_words:\n",
    "            tweet_pos_words += 1\n",
    "        elif word+'\\n' in neg_words:\n",
    "            tweet_neg_words += 1\n",
    "        else:\n",
    "            tweet_neu_words += 1\n",
    "    #print('pos: ', tweet_pos_words, '| neg: ', tweet_neg_words, '| neu: ', tweet_neu_words)\n",
    "    \n",
    "    if tweet_pos_words > tweet_neg_words:\n",
    "        sent_score += 'pos'\n",
    "    elif tweet_neg_words > tweet_pos_words:\n",
    "        sent_score += 'neg'\n",
    "        housemates[name] += 1\n",
    "    else:\n",
    "        sent_score += 'neu'\n",
    "    #print(sent_score)\n",
    "\n",
    "#Tokenize tweets and get sentiment score for tweet\n",
    "from nltk import word_tokenize\n",
    "import nltk\n",
    "\n",
    "housemates = {'aubrey': 0, 'bear': 0, 'biggins': 0, 'chloe': 0, 'frankie': 0, 'grant': 0, 'heavy': 0, 'james': 0, 'katie': 0, 'lewis': 0, 'marnie': 0, 'renee': 0, 'ricky': 0, 'saira': 0, 'samantha': 0}\n",
    "neg_tweets = []\n",
    "type(tweets[0])\n",
    "\n",
    "for tweet in tweets:\n",
    "    tokenized_tweet = word_tokenize(tweet)\n",
    "    tweet_words = [word.lower() for word in tokenized_tweet if word.isalpha() and len(word) > 2]\n",
    "    for name in housemates.keys():\n",
    "        if name in tweet_words:\n",
    "            #print(name)\n",
    "            #print(tweet)\n",
    "            sentimenter(tweet_words)\n",
    "\n",
    "import matplotlib.pyplot as plt\n",
    "\n",
    "plt.bar(range(len(housemates)), housemates.values(), align='center')\n",
    "plt.xticks(range(len(housemates)), housemates.keys())\n",
    "\n",
    "plt.show()\n",
    "\n"
   ]
  },
  {
   "cell_type": "code",
   "execution_count": null,
   "metadata": {
    "collapsed": true
   },
   "outputs": [],
   "source": []
  }
 ],
 "metadata": {
  "kernelspec": {
   "display_name": "Python 3",
   "language": "python",
   "name": "python3"
  },
  "language_info": {
   "codemirror_mode": {
    "name": "ipython",
    "version": 3
   },
   "file_extension": ".py",
   "mimetype": "text/x-python",
   "name": "python",
   "nbconvert_exporter": "python",
   "pygments_lexer": "ipython3",
   "version": "3.5.2"
  }
 },
 "nbformat": 4,
 "nbformat_minor": 0
}
