{
 "cells": [
  {
   "cell_type": "code",
   "execution_count": 1,
   "metadata": {
    "collapsed": false,
    "scrolled": false
   },
   "outputs": [],
   "source": [
    "app_key = \"yR9glAMWeqhyllBQuXZCTy6Qa\"\n",
    "app_secret = \"XaTraw0DcBNfe1GXWWopTdDJGWYO5BC9dW1zBTXKut2dkYLXqt\"\n",
    "access_token = \"4655376569-sZx9j0n3SR3ok1alwrjtjSGt8jRICRFypxpIA4S\"\n",
    "access_secret = \"VoWI1AfAPlhDBJEQHQGsKMZe00c9s4jBYsRrbHx3VVIhE\"\n",
    "\n",
    "import tweepy\n",
    "from nltk import word_tokenize\n",
    "import nltk\n",
    "\n",
    "auth = tweepy.OAuthHandler(app_key, app_secret)\n",
    "auth.set_access_token(access_token, access_secret)\n",
    "\n",
    "api = tweepy.API(auth)\n"
   ]
  },
  {
   "cell_type": "code",
   "execution_count": 2,
   "metadata": {
    "collapsed": false
   },
   "outputs": [
    {
     "name": "stdout",
     "output_type": "stream",
     "text": [
      "['RT @DempseyRobinson: Georgina got fingered and hughie came all over Ryan and am speechless 😂😂😂 #bbuk', 'Why has Georgina always got a face like a slapped ass?! #BBUK #bbgeorgina', 'RT @ameliawilson121: @bbuk Hughie is so handsome', \"RT @MNBZINGA: @mrosen100 @bbuk nah, I don't think it'll be a double eviction.\", 'RT @tvrealityobsess: 😍😍 #BBLateysha #BBAlex #bbuk https://t.co/YaS1nD5Okl', \"I loved Georgina but she's so miserable now #BBUK\", 'Omg! The latest task looks hilarious! And classic bb! #BBUK', \"RT @NikkiGrahame: Sorry I wasn't hosting Chelsea's @bbuk party!!! Haha!!  However.. I'll be on the BOTS panel on Friday 😁😘👁 xx\", '😍😍 #BBLateysha #BBAlex #bbuk https://t.co/YaS1nD5Okl', \"@mrosen100 @bbuk nah, I don't think it'll be a double eviction.\"]\n"
     ]
    }
   ],
   "source": [
    "results = api.search(q='bbuk', count=10)\n",
    "tweets = []\n",
    "for (idx, tweet) in enumerate(results[0:10]):\n",
    "    tweets.append(results[idx].text)\n",
    "print(tweets)"
   ]
  },
  {
   "cell_type": "code",
   "execution_count": 6,
   "metadata": {
    "collapsed": false
   },
   "outputs": [
    {
     "name": "stdout",
     "output_type": "stream",
     "text": [
      "{'compound': 0.0, 'neu': 1.0, 'pos': 0.0, 'neg': 0.0}\n",
      "{'compound': 0.4199, 'neu': 0.782, 'pos': 0.218, 'neg': 0.0}\n",
      "{'compound': 0.6269, 'neu': 0.593, 'pos': 0.407, 'neg': 0.0}\n",
      "{'compound': -0.5267, 'neu': 0.672, 'pos': 0.0, 'neg': 0.328}\n",
      "{'compound': 0.0, 'neu': 1.0, 'pos': 0.0, 'neg': 0.0}\n",
      "{'compound': -0.6398, 'neu': 0.425, 'pos': 0.173, 'neg': 0.402}\n",
      "{'compound': 0.5538, 'neu': 0.716, 'pos': 0.284, 'neg': 0.0}\n",
      "{'compound': 0.7627, 'neu': 0.675, 'pos': 0.273, 'neg': 0.052}\n",
      "{'compound': 0.0, 'neu': 1.0, 'pos': 0.0, 'neg': 0.0}\n",
      "{'compound': -0.5267, 'neu': 0.614, 'pos': 0.0, 'neg': 0.386}\n"
     ]
    }
   ],
   "source": [
    "import numpy as np\n",
    "import pandas as pd\n",
    "from nltk.corpus import subjectivity\n",
    "from nltk.sentiment import SentimentAnalyzer\n",
    "from nltk.sentiment.util import *\n",
    "from nltk.sentiment.vader import SentimentIntensityAnalyzer\n",
    "\n",
    "sia = SentimentIntensityAnalyzer()\n",
    "dataneg = 0\n",
    "datapos = 0\n",
    "dataneu = 0\n",
    "\n",
    "len(tweets)\n",
    "for tweet in tweets:\n",
    "    ps = sia.polarity_scores(tweet)\n",
    "    for key, value in ps.items():\n",
    "        if key != \"compound\":\n",
    "            if value > 0.5:\n",
    "                sent = key\n",
    "                if sent == \"pos\":\n",
    "                    datapos += 1\n",
    "                elif sent == \"neg\":\n",
    "                    dataneg += 1\n",
    "                elif sent == \"neu\":\n",
    "                    dataneu += 1\n",
    "    print(ps)"
   ]
  },
  {
   "cell_type": "code",
   "execution_count": null,
   "metadata": {
    "collapsed": true
   },
   "outputs": [],
   "source": [
    "import matplotlib.pyplot as plt\n",
    "data = [dataneg, datapos, dataneu]\n",
    "\n",
    "y = len(data)\n",
    "x = np.arange(y)\n",
    "width = 0.35\n",
    "fig = plt.figure()\n",
    "ax = fig.add_subplot(111)\n",
    "\n",
    "xTickMarks = ('neg', 'pos', 'neu')\n",
    "xTickNames = ax.set_xticklabels(xTickMarks)\n",
    "ax.set_xticks(x+(width/2))\n",
    "\n",
    "rects1 = ax.bar(x,data,width)\n",
    "plt.show()"
   ]
  },
  {
   "cell_type": "code",
   "execution_count": 19,
   "metadata": {
    "collapsed": true
   },
   "outputs": [],
   "source": [
    "with open(\"positive-words.txt\") as pos:\n",
    "    pos_words = pos.readlines()\n",
    "with open(\"negative-words.txt\") as neg:\n",
    "    neg_words = neg.readlines()"
   ]
  }
 ],
 "metadata": {
  "kernelspec": {
   "display_name": "Python 3",
   "language": "python",
   "name": "python3"
  },
  "language_info": {
   "codemirror_mode": {
    "name": "ipython",
    "version": 3
   },
   "file_extension": ".py",
   "mimetype": "text/x-python",
   "name": "python",
   "nbconvert_exporter": "python",
   "pygments_lexer": "ipython3",
   "version": "3.5.1"
  }
 },
 "nbformat": 4,
 "nbformat_minor": 0
}
